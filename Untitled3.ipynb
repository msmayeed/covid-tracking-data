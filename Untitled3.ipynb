{
  "nbformat": 4,
  "nbformat_minor": 0,
  "metadata": {
    "colab": {
      "name": "Untitled3.ipynb",
      "provenance": [],
      "authorship_tag": "ABX9TyONxtoY492G1ic/sl7owawJ",
      "include_colab_link": true
    },
    "kernelspec": {
      "name": "python3",
      "display_name": "Python 3"
    }
  },
  "cells": [
    {
      "cell_type": "markdown",
      "metadata": {
        "id": "view-in-github",
        "colab_type": "text"
      },
      "source": [
        "<a href=\"https://colab.research.google.com/github/msmayeed/covid-tracking-data/blob/master/Untitled3.ipynb\" target=\"_parent\"><img src=\"https://colab.research.google.com/assets/colab-badge.svg\" alt=\"Open In Colab\"/></a>"
      ]
    },
    {
      "cell_type": "code",
      "metadata": {
        "id": "Ls-WbTR_vFMC",
        "colab_type": "code",
        "colab": {
          "base_uri": "https://localhost:8080/",
          "height": 35
        },
        "outputId": "2ab62258-71d9-4f3d-c5f7-e0368d18c5d7"
      },
      "source": [
        "from scipy.optimize import fsolve\n",
        "import sympy as sym\n",
        "sym.init_printing()\n",
        "\n",
        "#### Solution with fsolve\n",
        "def f(z):\n",
        "    x = z[0]\n",
        "    y = z[1]\n",
        "    m1 = 2.7\n",
        "    zilon1 = 0.595\n",
        "    x6 = 10\n",
        "    m5 = 2.7\n",
        "    m6 = 2.1\n",
        "    return [m5 * (1 - x) - m1 * (1 - zilon1) + m6 * (y - x6), m5 * x - m1 * zilon1]\n",
        "\n",
        "zguess = [2,4]\n",
        "z = fsolve(f,zguess)\n",
        "print(z)"
      ],
      "execution_count": 7,
      "outputs": [
        {
          "output_type": "stream",
          "text": [
            "[ 0.595 10.   ]\n"
          ],
          "name": "stdout"
        }
      ]
    }
  ]
}